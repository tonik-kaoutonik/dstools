{
  "metadata": {
    "kernelspec": {
      "name": "python",
      "display_name": "Python (Pyodide)",
      "language": "python"
    },
    "language_info": {
      "codemirror_mode": {
        "name": "python",
        "version": 3
      },
      "file_extension": ".py",
      "mimetype": "text/x-python",
      "name": "python",
      "nbconvert_exporter": "python",
      "pygments_lexer": "ipython3",
      "version": "3.8"
    }
  },
  "nbformat_minor": 5,
  "nbformat": 4,
  "cells": [
    {
      "id": "b85373d3-45f3-4684-99ee-3cd35db535e8",
      "cell_type": "markdown",
      "source": "# Data Science Tools and Ecosystem ",
      "metadata": {}
    },
    {
      "id": "b1fc38fb-abe6-4a53-bcd1-da85f9225e4e",
      "cell_type": "markdown",
      "source": "## Author\nANTONIA ROXANI PROTOPAPADAKI",
      "metadata": {}
    },
    {
      "id": "42827616-3a0c-4bd1-aaaa-b4dacd62adb9",
      "cell_type": "markdown",
      "source": "In this notebook, Date Science Tools and Ecosystem are summarized.",
      "metadata": {}
    },
    {
      "id": "c943322b-8da5-451a-9b33-d481b662ca90",
      "cell_type": "markdown",
      "source": "## Objectives:\n* Categories of Data Science Tools\n* Languages of Data Science\n* Libraries for Data Science\n* Machine Learning Models",
      "metadata": {}
    },
    {
      "id": "967a5c86-f6e8-49d6-8e31-f6e50a620619",
      "cell_type": "markdown",
      "source": "Some of the popular languages that Data Scientists use are:\n1. Python\n2. R\n3. SQL\n4. Julia",
      "metadata": {}
    },
    {
      "id": "79102d01-f256-48c7-9394-e04576d95e27",
      "cell_type": "markdown",
      "source": "Some of the commonly used libraries used by Data Scientists include:\n1. Pandas\n2. NumPy\n3. Matplotlib",
      "metadata": {}
    },
    {
      "id": "d09a03a9-0f77-49b4-82bd-deaa026bed77",
      "cell_type": "markdown",
      "source": "|Data Science Tools|\n|------------------|\n|Jupyter Notebook|\n|RStudio|\n|Git|",
      "metadata": {}
    },
    {
      "id": "a21e8ab0-6310-43d3-9dd9-82e77eb154ab",
      "cell_type": "markdown",
      "source": "### Below are a few examples of evaluating arithmetic expressions in Python",
      "metadata": {}
    },
    {
      "id": "8366ddad-ae6a-43a5-9c68-58d687269d42",
      "cell_type": "code",
      "source": "# This is a simple arithmetic expression to multiply then add integers\n(3*4)+5",
      "metadata": {
        "trusted": true
      },
      "outputs": [
        {
          "execution_count": 4,
          "output_type": "execute_result",
          "data": {
            "text/plain": "17"
          },
          "metadata": {}
        }
      ],
      "execution_count": 4
    },
    {
      "id": "27e6a65f-538f-494f-a103-09f7e33a0b35",
      "cell_type": "code",
      "source": "# This wll convert 200 minutes to hours by dividing by 60\n200/60",
      "metadata": {
        "trusted": true
      },
      "outputs": [
        {
          "execution_count": 7,
          "output_type": "execute_result",
          "data": {
            "text/plain": "3.3333333333333335"
          },
          "metadata": {}
        }
      ],
      "execution_count": 7
    },
    {
      "id": "8b266509-10ac-4d6e-b6e6-bd290ef9c63b",
      "cell_type": "code",
      "source": "",
      "metadata": {
        "trusted": true
      },
      "outputs": [],
      "execution_count": null
    }
  ]
}